{
  "nbformat": 4,
  "nbformat_minor": 0,
  "metadata": {
    "colab": {
      "name": "05-ANN-Klasyfikacja-obrazow-mnist-perceptron-wielowarstwowy.ipynb",
      "provenance": []
    },
    "kernelspec": {
      "name": "python3",
      "display_name": "Python 3"
    }
  },
  "cells": [
    {
      "cell_type": "markdown",
      "metadata": {
        "id": "GeczHToUQcLR",
        "colab_type": "text"
      },
      "source": [
        "* Im więcej danych treningowych, tym sieci neuronowe powinny być lepiej wytrenowane, lepiej przewidywać na nowych danych.\n",
        "* Głębokie sieci konwolucyjne (CNN) potrafią stopniowo filtrować różne części danych uczących i wyostrzać ważne cechy w procesie dyskryminacji\n",
        "wykorzystanym do rozpoznawania lub klasyfikacji wzorców.\n",
        "\n",
        "* **Jak przechowywane są kolorowe zdjęcia?** Tensor - zestaw 3 macierzy, każda odpowiada za inną barwę: RGB. W sieciach neuronowych operacje przeprowadzane są na tensorach. To uogólnienie macierzy. Tensor 0-wymiarowy to skalar, 1-wymiarowy to wektor, 2-wymiarowy to macierz, reszta to tensor 3-,4-wymiarowy itd.\n",
        "\n",
        "* 5-wymiarowe tensory przechowują informacje o video: próbki, klatki, wysokość, szerokość, liczba kanałów (głębokość).\n",
        "\n",
        "* Biblioteki uczenia głębokiego:\n",
        "\n",
        " **Keras** - interfejs wysokiego poziomu, działa na TensorFlow, szybkie prototypowanie sieci neuronowych, obsługuje sieci konwolucyjne, rekurencyjne i ich kombinacje, działa na CPU i GPU\n",
        "\n",
        " **TensorFlow** - do obliczeń numerycznych wykorzystywana w uczeniu maszynowym i głębokich sieciach neuronowych, zawiera w sobie bibliotekę Keras zoptymalizowaną pod kątem działania. \n",
        "\n",
        "\n",
        "**Sieci gęste nie są efektywne w zapamiętywaniu wzorców z obrazu, sieci konwolucyjne są najlepsze do analizowania obrazów.**"
      ]
    },
    {
      "cell_type": "markdown",
      "metadata": {
        "id": "i6hrkYJjYnbg",
        "colab_type": "text"
      },
      "source": [
        "## Implementacja sieci neuronowej gęstej z użyciem biblioteki Keras\n",
        "\n",
        "* sieć neuronowa gęsta - wszystkie neurony połączone ze sobą, **Perceptron Wielowarstwowy (Multilayer Perceptron)**\n"
      ]
    },
    {
      "cell_type": "code",
      "metadata": {
        "id": "fx8wtCKFDZqI",
        "colab_type": "code",
        "colab": {}
      },
      "source": [
        "import keras\n",
        "from keras.datasets import mnist \n",
        "# mnist to zbiór odręcznie zapisanych cyfr, 28x28 px\n",
        "from keras.models import Sequential \n",
        "# pozwoli budować modele sekwencyjnie (warstwy układane na stosie)\n",
        "from keras.layers import Dense \n",
        "# warstwa gęsta\n",
        "from keras.optimizers import RMSprop"
      ],
      "execution_count": null,
      "outputs": []
    },
    {
      "cell_type": "code",
      "metadata": {
        "id": "YmKBNR2_apml",
        "colab_type": "code",
        "colab": {}
      },
      "source": [
        "# podział na dane testowe i treningowe już przy załadowaniu!!!!\n",
        "(X_train,y_train),(X_test,y_test) = mnist.load_data()"
      ],
      "execution_count": null,
      "outputs": []
    },
    {
      "cell_type": "code",
      "metadata": {
        "id": "XjCSdxt8bBBn",
        "colab_type": "code",
        "colab": {
          "base_uri": "https://localhost:8080/",
          "height": 82
        },
        "outputId": "3e2ee7ba-46dc-4818-9ae4-64c9b88dffda"
      },
      "source": [
        "# EDA\n",
        "print(X_train.shape)\n",
        "print(y_train.shape)\n",
        "print(X_test.shape)\n",
        "print(y_test.shape)"
      ],
      "execution_count": null,
      "outputs": [
        {
          "output_type": "stream",
          "text": [
            "(60000, 28, 28)\n",
            "(60000,)\n",
            "(10000, 28, 28)\n",
            "(10000,)\n"
          ],
          "name": "stdout"
        }
      ]
    },
    {
      "cell_type": "code",
      "metadata": {
        "id": "4gxPOHzBbKlL",
        "colab_type": "code",
        "colab": {
          "base_uri": "https://localhost:8080/",
          "height": 66
        },
        "outputId": "af1639b7-ed67-40a1-da1d-f0ed2d94c701"
      },
      "source": [
        "print('Liczba danych treningowych:',X_train.shape[0])\n",
        "print('Liczba danych testowych:',X_test.shape[0])\n",
        "print('Rozmiar pojedynczego obrazka:',X_train[0].shape)"
      ],
      "execution_count": null,
      "outputs": [
        {
          "output_type": "stream",
          "text": [
            "Liczba danych treningowych: 60000\n",
            "Liczba danych testowych: 10000\n",
            "Rozmiar pojedynczego obrazka: (28, 28)\n"
          ],
          "name": "stdout"
        }
      ]
    },
    {
      "cell_type": "code",
      "metadata": {
        "id": "g75Pfle6bNyk",
        "colab_type": "code",
        "colab": {
          "base_uri": "https://localhost:8080/",
          "height": 263
        },
        "outputId": "1fcef669-a4e4-4621-d15d-888c3cd0f258"
      },
      "source": [
        "import matplotlib.pyplot as plt\n",
        "\n",
        "plt.imshow(X_train[550], cmap='Greys')\n",
        "plt.axis('off') # bez osi OX,OY"
      ],
      "execution_count": null,
      "outputs": [
        {
          "output_type": "execute_result",
          "data": {
            "text/plain": [
              "(-0.5, 27.5, 27.5, -0.5)"
            ]
          },
          "metadata": {
            "tags": []
          },
          "execution_count": 5
        },
        {
          "output_type": "display_data",
          "data": {
            "image/png": "[encoded data removed]",
            "text/plain": [
              "<Figure size 432x288 with 1 Axes>"
            ]
          },
          "metadata": {
            "tags": [],
            "needs_background": "light"
          }
        }
      ]
    },
    {
      "cell_type": "code",
      "metadata": {
        "id": "JWWrTPoecyrT",
        "colab_type": "code",
        "colab": {
          "base_uri": "https://localhost:8080/",
          "height": 77
        },
        "outputId": "12182acc-a0db-48a1-d571-a133f5965532"
      },
      "source": [
        "# wyświetlanie kilku obiektów na raz:\n",
        "\n",
        "plt.figure(figsize=(10,10))\n",
        "for i in range (1,11):\n",
        "    plt.subplot(1,10,i) # wiersze, kolumny, nr iteracji\n",
        "    plt.axis('off')\n",
        "    plt.imshow(X_train[i+900], cmap='Greys')\n",
        "plt.show()"
      ],
      "execution_count": null,
      "outputs": [
        {
          "output_type": "display_data",
          "data": {
            "image/png": "[encoded data removed]",
            "text/plain": [
              "<Figure size 720x720 with 10 Axes>"
            ]
          },
          "metadata": {
            "tags": [],
            "needs_background": "light"
          }
        }
      ]
    },
    {
      "cell_type": "code",
      "metadata": {
        "id": "AFJmOH3id4He",
        "colab_type": "code",
        "colab": {
          "base_uri": "https://localhost:8080/",
          "height": 33
        },
        "outputId": "c4667066-77f2-4c02-aaf1-a3dc21466dcb"
      },
      "source": [
        "# jak wyglądają etykiety??\n",
        "y_train"
      ],
      "execution_count": null,
      "outputs": [
        {
          "output_type": "execute_result",
          "data": {
            "text/plain": [
              "array([5, 0, 4, ..., 5, 6, 8], dtype=uint8)"
            ]
          },
          "metadata": {
            "tags": []
          },
          "execution_count": 7
        }
      ]
    },
    {
      "cell_type": "code",
      "metadata": {
        "id": "aomlvWUreCCe",
        "colab_type": "code",
        "colab": {}
      },
      "source": [
        "# przygotowanie danych\n",
        "\n",
        "# trzeba ujednolicić rozmiary danych\n",
        "X_train = X_train.reshape(60000,28*28)\n",
        "# l.próbek, piksele"
      ],
      "execution_count": null,
      "outputs": []
    },
    {
      "cell_type": "code",
      "metadata": {
        "id": "PbK4Kg0fembL",
        "colab_type": "code",
        "colab": {}
      },
      "source": [
        "X_test = X_test.reshape(10000,28*28)"
      ],
      "execution_count": null,
      "outputs": []
    },
    {
      "cell_type": "code",
      "metadata": {
        "id": "B9JYWIojeokC",
        "colab_type": "code",
        "colab": {
          "base_uri": "https://localhost:8080/",
          "height": 33
        },
        "outputId": "e9aa41af-fa15-49c4-f331-cf132f304d8a"
      },
      "source": [
        "X_test.dtype "
      ],
      "execution_count": null,
      "outputs": [
        {
          "output_type": "execute_result",
          "data": {
            "text/plain": [
              "dtype('uint8')"
            ]
          },
          "metadata": {
            "tags": []
          },
          "execution_count": 10
        }
      ]
    },
    {
      "cell_type": "code",
      "metadata": {
        "id": "WrEBM19ue16P",
        "colab_type": "code",
        "colab": {}
      },
      "source": [
        "# chcemy, by dane wejściowe były w formie zmiennoprzecinkowej (typu float)\n",
        "X_train = X_train.astype('float32')\n",
        "X_test = X_test.astype('float32')\n",
        "\n",
        "# liczby całkowite od 0 do 255 - chcemy je przeskalować\n",
        "# całą macierz dzielimy przez max. wartość, czyli 255\n",
        "X_train = X_train/255\n",
        "X_test = X_test/255"
      ],
      "execution_count": null,
      "outputs": []
    },
    {
      "cell_type": "code",
      "metadata": {
        "id": "NcugUWUEfptb",
        "colab_type": "code",
        "colab": {
          "base_uri": "https://localhost:8080/",
          "height": 1000
        },
        "outputId": "1f464f2e-814d-4184-9d6b-21a7e239c5c7"
      },
      "source": [
        "X_train[0]"
      ],
      "execution_count": null,
      "outputs": [
        {
          "output_type": "execute_result",
          "data": {
            "text/plain": [
              "array([0.        , 0.        , 0.        , 0.        , 0.        ,\n",
              "       0.        , 0.        , 0.        , 0.        , 0.        ,\n",
              "       0.        , 0.        , 0.        , 0.        , 0.        ,\n",
              "       0.        , 0.        , 0.        , 0.        , 0.        ,\n",
              "       0.        , 0.        , 0.        , 0.        , 0.        ,\n",
              "       0.        , 0.        , 0.        , 0.        , 0.        ,\n",
              "       0.        , 0.        , 0.        , 0.        , 0.        ,\n",
              "       0.        , 0.        , 0.        , 0.        , 0.        ,\n",
              "       0.        , 0.        , 0.        , 0.        , 0.        ,\n",
              "       0.        , 0.        , 0.        , 0.        , 0.        ,\n",
              "       0.        , 0.        , 0.        , 0.        , 0.        ,\n",
              "       0.        , 0.        , 0.        , 0.        , 0.        ,\n",
              "       0.        , 0.        , 0.        , 0.        , 0.        ,\n",
              "       0.        , 0.        , 0.        , 0.        , 0.        ,\n",
              "       0.        , 0.        , 0.        , 0.        , 0.        ,\n",
              "       0.        , 0.        , 0.        , 0.        , 0.        ,\n",
              "       0.        , 0.        , 0.        , 0.        , 0.        ,\n",
              "       0.        , 0.        , 0.        , 0.        , 0.        ,\n",
              "       0.        , 0.        , 0.        , 0.        , 0.        ,\n",
              "       0.        , 0.        , 0.        , 0.        , 0.        ,\n",
              "       0.        , 0.        , 0.        , 0.        , 0.        ,\n",
              "       0.        , 0.        , 0.        , 0.        , 0.        ,\n",
              "       0.        , 0.        , 0.        , 0.        , 0.        ,\n",
              "       0.        , 0.        , 0.        , 0.        , 0.        ,\n",
              "       0.        , 0.        , 0.        , 0.        , 0.        ,\n",
              "       0.        , 0.        , 0.        , 0.        , 0.        ,\n",
              "       0.        , 0.        , 0.        , 0.        , 0.        ,\n",
              "       0.        , 0.        , 0.        , 0.        , 0.        ,\n",
              "       0.        , 0.        , 0.        , 0.        , 0.        ,\n",
              "       0.        , 0.        , 0.        , 0.        , 0.        ,\n",
              "       0.        , 0.        , 0.01176471, 0.07058824, 0.07058824,\n",
              "       0.07058824, 0.49411765, 0.53333336, 0.6862745 , 0.10196079,\n",
              "       0.6509804 , 1.        , 0.96862745, 0.49803922, 0.        ,\n",
              "       0.        , 0.        , 0.        , 0.        , 0.        ,\n",
              "       0.        , 0.        , 0.        , 0.        , 0.        ,\n",
              "       0.        , 0.11764706, 0.14117648, 0.36862746, 0.6039216 ,\n",
              "       0.6666667 , 0.99215686, 0.99215686, 0.99215686, 0.99215686,\n",
              "       0.99215686, 0.88235295, 0.6745098 , 0.99215686, 0.9490196 ,\n",
              "       0.7647059 , 0.2509804 , 0.        , 0.        , 0.        ,\n",
              "       0.        , 0.        , 0.        , 0.        , 0.        ,\n",
              "       0.        , 0.        , 0.        , 0.19215687, 0.93333334,\n",
              "       0.99215686, 0.99215686, 0.99215686, 0.99215686, 0.99215686,\n",
              "       0.99215686, 0.99215686, 0.99215686, 0.9843137 , 0.3647059 ,\n",
              "       0.32156864, 0.32156864, 0.21960784, 0.15294118, 0.        ,\n",
              "       0.        , 0.        , 0.        , 0.        , 0.        ,\n",
              "       0.        , 0.        , 0.        , 0.        , 0.        ,\n",
              "       0.        , 0.07058824, 0.85882354, 0.99215686, 0.99215686,\n",
              "       0.99215686, 0.99215686, 0.99215686, 0.7764706 , 0.7137255 ,\n",
              "       0.96862745, 0.94509804, 0.        , 0.        , 0.        ,\n",
              "       0.        , 0.        , 0.        , 0.        , 0.        ,\n",
              "       0.        , 0.        , 0.        , 0.        , 0.        ,\n",
              "       0.        , 0.        , 0.        , 0.        , 0.        ,\n",
              "       0.3137255 , 0.6117647 , 0.41960785, 0.99215686, 0.99215686,\n",
              "       0.8039216 , 0.04313726, 0.        , 0.16862746, 0.6039216 ,\n",
              "       0.        , 0.        , 0.        , 0.        , 0.        ,\n",
              "       0.        , 0.        , 0.        , 0.        , 0.        ,\n",
              "       0.        , 0.        , 0.        , 0.        , 0.        ,\n",
              "       0.        , 0.        , 0.        , 0.        , 0.05490196,\n",
              "       0.00392157, 0.6039216 , 0.99215686, 0.3529412 , 0.        ,\n",
              "       0.        , 0.        , 0.        , 0.        , 0.        ,\n",
              "       0.        , 0.        , 0.        , 0.        , 0.        ,\n",
              "       0.        , 0.        , 0.        , 0.        , 0.        ,\n",
              "       0.        , 0.        , 0.        , 0.        , 0.        ,\n",
              "       0.        , 0.        , 0.        , 0.        , 0.54509807,\n",
              "       0.99215686, 0.74509805, 0.00784314, 0.        , 0.        ,\n",
              "       0.        , 0.        , 0.        , 0.        , 0.        ,\n",
              "       0.        , 0.        , 0.        , 0.        , 0.        ,\n",
              "       0.        , 0.        , 0.        , 0.        , 0.        ,\n",
              "       0.        , 0.        , 0.        , 0.        , 0.        ,\n",
              "       0.        , 0.        , 0.04313726, 0.74509805, 0.99215686,\n",
              "       0.27450982, 0.        , 0.        , 0.        , 0.        ,\n",
              "       0.        , 0.        , 0.        , 0.        , 0.        ,\n",
              "       0.        , 0.        , 0.        , 0.        , 0.        ,\n",
              "       0.        , 0.        , 0.        , 0.        , 0.        ,\n",
              "       0.        , 0.        , 0.        , 0.        , 0.        ,\n",
              "       0.        , 0.13725491, 0.94509804, 0.88235295, 0.627451  ,\n",
              "       0.42352942, 0.00392157, 0.        , 0.        , 0.        ,\n",
              "       0.        , 0.        , 0.        , 0.        , 0.        ,\n",
              "       0.        , 0.        , 0.        , 0.        , 0.        ,\n",
              "       0.        , 0.        , 0.        , 0.        , 0.        ,\n",
              "       0.        , 0.        , 0.        , 0.        , 0.        ,\n",
              "       0.31764707, 0.9411765 , 0.99215686, 0.99215686, 0.46666667,\n",
              "       0.09803922, 0.        , 0.        , 0.        , 0.        ,\n",
              "       0.        , 0.        , 0.        , 0.        , 0.        ,\n",
              "       0.        , 0.        , 0.        , 0.        , 0.        ,\n",
              "       0.        , 0.        , 0.        , 0.        , 0.        ,\n",
              "       0.        , 0.        , 0.        , 0.        , 0.1764706 ,\n",
              "       0.7294118 , 0.99215686, 0.99215686, 0.5882353 , 0.10588235,\n",
              "       0.        , 0.        , 0.        , 0.        , 0.        ,\n",
              "       0.        , 0.        , 0.        , 0.        , 0.        ,\n",
              "       0.        , 0.        , 0.        , 0.        , 0.        ,\n",
              "       0.        , 0.        , 0.        , 0.        , 0.        ,\n",
              "       0.        , 0.        , 0.        , 0.0627451 , 0.3647059 ,\n",
              "       0.9882353 , 0.99215686, 0.73333335, 0.        , 0.        ,\n",
              "       0.        , 0.        , 0.        , 0.        , 0.        ,\n",
              "       0.        , 0.        , 0.        , 0.        , 0.        ,\n",
              "       0.        , 0.        , 0.        , 0.        , 0.        ,\n",
              "       0.        , 0.        , 0.        , 0.        , 0.        ,\n",
              "       0.        , 0.        , 0.        , 0.9764706 , 0.99215686,\n",
              "       0.9764706 , 0.2509804 , 0.        , 0.        , 0.        ,\n",
              "       0.        , 0.        , 0.        , 0.        , 0.        ,\n",
              "       0.        , 0.        , 0.        , 0.        , 0.        ,\n",
              "       0.        , 0.        , 0.        , 0.        , 0.        ,\n",
              "       0.        , 0.        , 0.        , 0.18039216, 0.50980395,\n",
              "       0.7176471 , 0.99215686, 0.99215686, 0.8117647 , 0.00784314,\n",
              "       0.        , 0.        , 0.        , 0.        , 0.        ,\n",
              "       0.        , 0.        , 0.        , 0.        , 0.        ,\n",
              "       0.        , 0.        , 0.        , 0.        , 0.        ,\n",
              "       0.        , 0.        , 0.        , 0.        , 0.15294118,\n",
              "       0.5803922 , 0.8980392 , 0.99215686, 0.99215686, 0.99215686,\n",
              "       0.98039216, 0.7137255 , 0.        , 0.        , 0.        ,\n",
              "       0.        , 0.        , 0.        , 0.        , 0.        ,\n",
              "       0.        , 0.        , 0.        , 0.        , 0.        ,\n",
              "       0.        , 0.        , 0.        , 0.        , 0.        ,\n",
              "       0.09411765, 0.44705883, 0.8666667 , 0.99215686, 0.99215686,\n",
              "       0.99215686, 0.99215686, 0.7882353 , 0.30588236, 0.        ,\n",
              "       0.        , 0.        , 0.        , 0.        , 0.        ,\n",
              "       0.        , 0.        , 0.        , 0.        , 0.        ,\n",
              "       0.        , 0.        , 0.        , 0.        , 0.        ,\n",
              "       0.        , 0.09019608, 0.25882354, 0.8352941 , 0.99215686,\n",
              "       0.99215686, 0.99215686, 0.99215686, 0.7764706 , 0.31764707,\n",
              "       0.00784314, 0.        , 0.        , 0.        , 0.        ,\n",
              "       0.        , 0.        , 0.        , 0.        , 0.        ,\n",
              "       0.        , 0.        , 0.        , 0.        , 0.        ,\n",
              "       0.        , 0.        , 0.07058824, 0.67058825, 0.85882354,\n",
              "       0.99215686, 0.99215686, 0.99215686, 0.99215686, 0.7647059 ,\n",
              "       0.3137255 , 0.03529412, 0.        , 0.        , 0.        ,\n",
              "       0.        , 0.        , 0.        , 0.        , 0.        ,\n",
              "       0.        , 0.        , 0.        , 0.        , 0.        ,\n",
              "       0.        , 0.        , 0.        , 0.21568628, 0.6745098 ,\n",
              "       0.8862745 , 0.99215686, 0.99215686, 0.99215686, 0.99215686,\n",
              "       0.95686275, 0.52156866, 0.04313726, 0.        , 0.        ,\n",
              "       0.        , 0.        , 0.        , 0.        , 0.        ,\n",
              "       0.        , 0.        , 0.        , 0.        , 0.        ,\n",
              "       0.        , 0.        , 0.        , 0.        , 0.        ,\n",
              "       0.        , 0.53333336, 0.99215686, 0.99215686, 0.99215686,\n",
              "       0.83137256, 0.5294118 , 0.5176471 , 0.0627451 , 0.        ,\n",
              "       0.        , 0.        , 0.        , 0.        , 0.        ,\n",
              "       0.        , 0.        , 0.        , 0.        , 0.        ,\n",
              "       0.        , 0.        , 0.        , 0.        , 0.        ,\n",
              "       0.        , 0.        , 0.        , 0.        , 0.        ,\n",
              "       0.        , 0.        , 0.        , 0.        , 0.        ,\n",
              "       0.        , 0.        , 0.        , 0.        , 0.        ,\n",
              "       0.        , 0.        , 0.        , 0.        , 0.        ,\n",
              "       0.        , 0.        , 0.        , 0.        , 0.        ,\n",
              "       0.        , 0.        , 0.        , 0.        , 0.        ,\n",
              "       0.        , 0.        , 0.        , 0.        , 0.        ,\n",
              "       0.        , 0.        , 0.        , 0.        , 0.        ,\n",
              "       0.        , 0.        , 0.        , 0.        , 0.        ,\n",
              "       0.        , 0.        , 0.        , 0.        , 0.        ,\n",
              "       0.        , 0.        , 0.        , 0.        , 0.        ,\n",
              "       0.        , 0.        , 0.        , 0.        , 0.        ,\n",
              "       0.        , 0.        , 0.        , 0.        , 0.        ,\n",
              "       0.        , 0.        , 0.        , 0.        , 0.        ,\n",
              "       0.        , 0.        , 0.        , 0.        , 0.        ,\n",
              "       0.        , 0.        , 0.        , 0.        , 0.        ,\n",
              "       0.        , 0.        , 0.        , 0.        ], dtype=float32)"
            ]
          },
          "metadata": {
            "tags": []
          },
          "execution_count": 12
        }
      ]
    },
    {
      "cell_type": "code",
      "metadata": {
        "id": "89pbFOGJfrFV",
        "colab_type": "code",
        "colab": {}
      },
      "source": [
        "# mamy 10 klas do rozpoznawania\n",
        "y_train = keras.utils.to_categorical(y_train,num_classes=10)\n",
        "y_test = keras.utils.to_categorical(y_test,num_classes=10)"
      ],
      "execution_count": null,
      "outputs": []
    },
    {
      "cell_type": "code",
      "metadata": {
        "id": "Dl-3Ckhofu8y",
        "colab_type": "code",
        "colab": {
          "base_uri": "https://localhost:8080/",
          "height": 33
        },
        "outputId": "79da91a0-90fb-4327-dbf2-d97bca6d5b8f"
      },
      "source": [
        "y_train[0]"
      ],
      "execution_count": null,
      "outputs": [
        {
          "output_type": "execute_result",
          "data": {
            "text/plain": [
              "array([0., 0., 0., 0., 0., 1., 0., 0., 0., 0.], dtype=float32)"
            ]
          },
          "metadata": {
            "tags": []
          },
          "execution_count": 14
        }
      ]
    },
    {
      "cell_type": "code",
      "metadata": {
        "id": "PWQKp0uqgjC7",
        "colab_type": "code",
        "colab": {
          "base_uri": "https://localhost:8080/",
          "height": 33
        },
        "outputId": "5ba5d055-b168-440b-ef81-7b41d4b9fd1d"
      },
      "source": [
        "y_train.shape"
      ],
      "execution_count": null,
      "outputs": [
        {
          "output_type": "execute_result",
          "data": {
            "text/plain": [
              "(60000, 10)"
            ]
          },
          "metadata": {
            "tags": []
          },
          "execution_count": 15
        }
      ]
    },
    {
      "cell_type": "code",
      "metadata": {
        "id": "miB61ihjgoD0",
        "colab_type": "code",
        "colab": {}
      },
      "source": [
        "# Budowa modelu\n",
        "\n",
        "model = Sequential()\n",
        "# Dense, bo sieć gęsta\n",
        "model.add(Dense(units=512, # wybieramy nie 28x28, tylko mniej neuronów, 2^x\n",
        "                activation='relu', # wprowadza nieliniowość do sieci, typowa dla obrazów\n",
        "                input_shape=(28*28,))) # rozmiar obrazka (danych)\n",
        "model.add(Dense(units=512,\n",
        "                activation='relu'))\n",
        "model.add(Dense(units=10, # = mamy 10 liczb do rozpoznania(klas)\n",
        "                activation='softmax')) # zwraca prawd. przynależn.do klas,\n",
        "                # idealna do problemów nieliniowych\n"
      ],
      "execution_count": null,
      "outputs": []
    },
    {
      "cell_type": "code",
      "metadata": {
        "id": "0ojLt4sia7MK",
        "colab_type": "code",
        "colab": {
          "base_uri": "https://localhost:8080/",
          "height": 245
        },
        "outputId": "01620931-5951-4a92-fd8f-a920221130ce"
      },
      "source": [
        "model.summary()"
      ],
      "execution_count": null,
      "outputs": [
        {
          "output_type": "stream",
          "text": [
            "Model: \"sequential\"\n",
            "_________________________________________________________________\n",
            "Layer (type)                 Output Shape              Param #   \n",
            "=================================================================\n",
            "dense (Dense)                (None, 512)               401920    \n",
            "_________________________________________________________________\n",
            "dense_1 (Dense)              (None, 512)               262656    \n",
            "_________________________________________________________________\n",
            "dense_2 (Dense)              (None, 10)                5130      \n",
            "=================================================================\n",
            "Total params: 669,706\n",
            "Trainable params: 669,706\n",
            "Non-trainable params: 0\n",
            "_________________________________________________________________\n"
          ],
          "name": "stdout"
        }
      ]
    },
    {
      "cell_type": "code",
      "metadata": {
        "id": "B-si17HNctgd",
        "colab_type": "code",
        "colab": {}
      },
      "source": [
        "# każdy zbudowany model należy skompilować!!!\n",
        "# każdy model musi zawierać optymalizator i funkcję straty\n",
        "model.compile(optimizer=RMSprop(),\n",
        "              loss='categorical_crossentropy', # problem kategoryzacji, nie binarny\n",
        "              metrics=['accuracy']) # pomaga spr. jak nasz model performuje"
      ],
      "execution_count": null,
      "outputs": []
    },
    {
      "cell_type": "code",
      "metadata": {
        "id": "zHroRSZenoAF",
        "colab_type": "code",
        "colab": {
          "base_uri": "https://localhost:8080/",
          "height": 687
        },
        "outputId": "16ab1108-7493-4429-b35d-1c93408062ed"
      },
      "source": [
        "# trenowanie modelu\n",
        "\n",
        "# model przypiszemy do zmiennej, żeby mieć dostęp do danych, które zwróci\n",
        "history = model.fit(X_train,\n",
        "                    y_train,\n",
        "                    batch_size=128, # po 128 próbkach następuje przeliczenie gradientu i aktualizacja wag\n",
        "                    epochs=20, # nasze dane tyle razy przechodzą przez sieć, ilosć iteracji przez cały zbiór x i y\n",
        "                    validation_data=(X_test,y_test))"
      ],
      "execution_count": null,
      "outputs": [
        {
          "output_type": "stream",
          "text": [
            "Epoch 1/20\n",
            "469/469 [==============================] - 8s 16ms/step - loss: 0.2212 - accuracy: 0.9319 - val_loss: 0.1162 - val_accuracy: 0.9628\n",
            "Epoch 2/20\n",
            "469/469 [==============================] - 7s 16ms/step - loss: 0.0803 - accuracy: 0.9749 - val_loss: 0.1024 - val_accuracy: 0.9705\n",
            "Epoch 3/20\n",
            "469/469 [==============================] - 8s 16ms/step - loss: 0.0526 - accuracy: 0.9838 - val_loss: 0.0806 - val_accuracy: 0.9771\n",
            "Epoch 4/20\n",
            "469/469 [==============================] - 8s 16ms/step - loss: 0.0391 - accuracy: 0.9878 - val_loss: 0.0740 - val_accuracy: 0.9817\n",
            "Epoch 5/20\n",
            "469/469 [==============================] - 8s 16ms/step - loss: 0.0301 - accuracy: 0.9905 - val_loss: 0.0832 - val_accuracy: 0.9780\n",
            "Epoch 6/20\n",
            "469/469 [==============================] - 8s 16ms/step - loss: 0.0238 - accuracy: 0.9923 - val_loss: 0.0871 - val_accuracy: 0.9790\n",
            "Epoch 7/20\n",
            "469/469 [==============================] - 8s 16ms/step - loss: 0.0175 - accuracy: 0.9947 - val_loss: 0.0916 - val_accuracy: 0.9795\n",
            "Epoch 8/20\n",
            "469/469 [==============================] - 8s 17ms/step - loss: 0.0149 - accuracy: 0.9954 - val_loss: 0.1034 - val_accuracy: 0.9795\n",
            "Epoch 9/20\n",
            "469/469 [==============================] - 8s 16ms/step - loss: 0.0131 - accuracy: 0.9961 - val_loss: 0.0993 - val_accuracy: 0.9812\n",
            "Epoch 10/20\n",
            "469/469 [==============================] - 8s 16ms/step - loss: 0.0113 - accuracy: 0.9967 - val_loss: 0.1123 - val_accuracy: 0.9821\n",
            "Epoch 11/20\n",
            "469/469 [==============================] - 8s 16ms/step - loss: 0.0099 - accuracy: 0.9969 - val_loss: 0.1245 - val_accuracy: 0.9804\n",
            "Epoch 12/20\n",
            "469/469 [==============================] - 8s 16ms/step - loss: 0.0102 - accuracy: 0.9971 - val_loss: 0.1137 - val_accuracy: 0.9832\n",
            "Epoch 13/20\n",
            "469/469 [==============================] - 8s 16ms/step - loss: 0.0083 - accuracy: 0.9973 - val_loss: 0.1251 - val_accuracy: 0.9827\n",
            "Epoch 14/20\n",
            "469/469 [==============================] - 8s 16ms/step - loss: 0.0064 - accuracy: 0.9982 - val_loss: 0.1402 - val_accuracy: 0.9806\n",
            "Epoch 15/20\n",
            "469/469 [==============================] - 8s 16ms/step - loss: 0.0066 - accuracy: 0.9979 - val_loss: 0.1634 - val_accuracy: 0.9799\n",
            "Epoch 16/20\n",
            "469/469 [==============================] - 8s 16ms/step - loss: 0.0079 - accuracy: 0.9978 - val_loss: 0.1420 - val_accuracy: 0.9816\n",
            "Epoch 17/20\n",
            "469/469 [==============================] - 8s 16ms/step - loss: 0.0065 - accuracy: 0.9982 - val_loss: 0.1547 - val_accuracy: 0.9797\n",
            "Epoch 18/20\n",
            "469/469 [==============================] - 8s 16ms/step - loss: 0.0053 - accuracy: 0.9984 - val_loss: 0.1911 - val_accuracy: 0.9794\n",
            "Epoch 19/20\n",
            "469/469 [==============================] - 7s 16ms/step - loss: 0.0057 - accuracy: 0.9984 - val_loss: 0.1726 - val_accuracy: 0.9811\n",
            "Epoch 20/20\n",
            "469/469 [==============================] - 8s 16ms/step - loss: 0.0048 - accuracy: 0.9987 - val_loss: 0.1868 - val_accuracy: 0.9810\n"
          ],
          "name": "stdout"
        }
      ]
    },
    {
      "cell_type": "code",
      "metadata": {
        "id": "DhpTvX5wwTJb",
        "colab_type": "code",
        "colab": {}
      },
      "source": [
        "# otrzymujemy nr i czas trwania epochu\n",
        "# czas pojedynczego kroku (per step)\n",
        "# loss = strata, CCE\n",
        "# accuracy\n",
        "# val_loss = wskaźnik straty na zbiorze testowym\n",
        "# VAL_ACCURACY = accuracy na zbiorze testowym, TO JEST WARTOŚĆ NASZEGO MODELU,\n",
        "# minimalnie mniejsza dokładność na danych testowych niż treningowych (logiczne)\n"
      ],
      "execution_count": null,
      "outputs": []
    },
    {
      "cell_type": "code",
      "metadata": {
        "id": "WkwTu2Q845HZ",
        "colab_type": "code",
        "colab": {
          "base_uri": "https://localhost:8080/",
          "height": 70
        },
        "outputId": "fb59b110-efe1-49f3-8c06-d6ec71822e3d"
      },
      "source": [
        "# GDYBYŚMY TRENOWALI MODEL BEZ SPRAWDZANIA GO NA DANYCH TESTOWYCH:\n",
        "model.evaluate(X_test,y_test)"
      ],
      "execution_count": null,
      "outputs": [
        {
          "output_type": "stream",
          "text": [
            "313/313 [==============================] - 1s 3ms/step - loss: 0.1868 - accuracy: 0.9810\n"
          ],
          "name": "stdout"
        },
        {
          "output_type": "execute_result",
          "data": {
            "text/plain": [
              "[0.18676985800266266, 0.9810000061988831]"
            ]
          },
          "metadata": {
            "tags": []
          },
          "execution_count": 24
        }
      ]
    },
    {
      "cell_type": "code",
      "metadata": {
        "id": "FzVcMkyM8D56",
        "colab_type": "code",
        "colab": {
          "base_uri": "https://localhost:8080/",
          "height": 1000
        },
        "outputId": "73f9d299-c654-4573-c78c-755b294fe464"
      },
      "source": [
        "history.history \n",
        "# otrzymamy wartości wyliczone podczas trenowania dla każdej epoki \n",
        "# accuracy, straty, accuracy i straty na zbiorze testowym"
      ],
      "execution_count": null,
      "outputs": [
        {
          "output_type": "execute_result",
          "data": {
            "text/plain": [
              "{'accuracy': [0.9319333434104919,\n",
              "  0.9749166369438171,\n",
              "  0.9837666749954224,\n",
              "  0.9878333210945129,\n",
              "  0.9904500246047974,\n",
              "  0.9922833442687988,\n",
              "  0.9947333335876465,\n",
              "  0.9953833222389221,\n",
              "  0.9960833191871643,\n",
              "  0.996666669845581,\n",
              "  0.9969000220298767,\n",
              "  0.9971166849136353,\n",
              "  0.9973499774932861,\n",
              "  0.9981666803359985,\n",
              "  0.9979333281517029,\n",
              "  0.9978333115577698,\n",
              "  0.9981833100318909,\n",
              "  0.9984166622161865,\n",
              "  0.9984333515167236,\n",
              "  0.9986833333969116],\n",
              " 'loss': [0.2212231159210205,\n",
              "  0.08026944100856781,\n",
              "  0.052578069269657135,\n",
              "  0.03907949477434158,\n",
              "  0.030085880309343338,\n",
              "  0.023804020136594772,\n",
              "  0.017513887956738472,\n",
              "  0.014890791848301888,\n",
              "  0.013094710186123848,\n",
              "  0.011308026500046253,\n",
              "  0.009851236827671528,\n",
              "  0.01022645365446806,\n",
              "  0.008255007676780224,\n",
              "  0.0063878814689815044,\n",
              "  0.00655863294377923,\n",
              "  0.007918938994407654,\n",
              "  0.006488271523267031,\n",
              "  0.0052503966726362705,\n",
              "  0.005684055387973785,\n",
              "  0.004832256585359573],\n",
              " 'val_accuracy': [0.9628000259399414,\n",
              "  0.9704999923706055,\n",
              "  0.9771000146865845,\n",
              "  0.9817000031471252,\n",
              "  0.9779999852180481,\n",
              "  0.9789999723434448,\n",
              "  0.9794999957084656,\n",
              "  0.9794999957084656,\n",
              "  0.9811999797821045,\n",
              "  0.9821000099182129,\n",
              "  0.980400025844574,\n",
              "  0.9832000136375427,\n",
              "  0.982699990272522,\n",
              "  0.9805999994277954,\n",
              "  0.9799000024795532,\n",
              "  0.9815999865531921,\n",
              "  0.9797000288963318,\n",
              "  0.9793999791145325,\n",
              "  0.9811000227928162,\n",
              "  0.9810000061988831],\n",
              " 'val_loss': [0.11619465053081512,\n",
              "  0.10241447389125824,\n",
              "  0.08058765530586243,\n",
              "  0.07395400106906891,\n",
              "  0.08316688239574432,\n",
              "  0.08705884963274002,\n",
              "  0.09155980497598648,\n",
              "  0.10344329476356506,\n",
              "  0.09925659745931625,\n",
              "  0.11230023205280304,\n",
              "  0.12448863685131073,\n",
              "  0.11371398717164993,\n",
              "  0.1250949651002884,\n",
              "  0.14020264148712158,\n",
              "  0.1633543223142624,\n",
              "  0.14197513461112976,\n",
              "  0.15470023453235626,\n",
              "  0.19112348556518555,\n",
              "  0.17255519330501556,\n",
              "  0.18676994740962982]}"
            ]
          },
          "metadata": {
            "tags": []
          },
          "execution_count": 25
        }
      ]
    },
    {
      "cell_type": "code",
      "metadata": {
        "id": "_1PnXYcY8UyL",
        "colab_type": "code",
        "colab": {}
      },
      "source": [
        "def plot_accuracy(history):\n",
        "    \"\"\"\n",
        "    Funkcja zwraca wykres dokładności (accuracy) modelu \n",
        "    na zbiorze treningowym i walidacyjnym\n",
        "    \"\"\"\n",
        "    import matplotlib.pyplot as plt\n",
        "    import seaborn as sns\n",
        "    sns.set(style='whitegrid')\n",
        "    \n",
        "    acc, val_acc = history.history['accuracy'], history.history['val_accuracy']\n",
        "    epochs=range(1,len(acc)+1)\n",
        "\n",
        "    plt.figure(figsize=(10,8))\n",
        "    plt.plot(epochs,acc,label='Dokładność trenowania',marker='o')\n",
        "    plt.plot(epochs,val_acc,label='Dokładność walidacji',marker='o')\n",
        "    plt.legend()\n",
        "    plt.title('Dokładność trenowania i walidacji')\n",
        "    plt.xlabel('Epoki')\n",
        "    plt.ylabel('Dokładność')\n",
        "    plt.show()\n",
        "\n",
        "def plot_loss(history):\n",
        "    \"\"\"\n",
        "    Funkcja zwraca wykres straty (loss) modelu\n",
        "    na zbiorze treningowym i walidacyjnym\n",
        "    \"\"\"\n",
        "    import matplotlib.pyplot as plt\n",
        "    import seaborn as sns\n",
        "    sns.set(style='whitegrid')\n",
        "\n",
        "    loss, val_loss = history.history['loss'], history.history['val_loss']\n",
        "    epochs = range(1,len(loss)+1)\n",
        "\n",
        "    plt.figure(figsize=(10,8))\n",
        "    plt.plot(epochs,loss,label='Strata trenowania',marker='o')\n",
        "    plt.plot(epochs,val_loss,label='Strata walidacji',marker='o')\n",
        "    plt.legend()\n",
        "    plt.title('Strata trenowania i walidacji')\n",
        "    plt.xlabel('Epoki')\n",
        "    plt.ylabel('Strata')\n",
        "    plt.show()\n"
      ],
      "execution_count": null,
      "outputs": []
    },
    {
      "cell_type": "code",
      "metadata": {
        "id": "8iVz3HvnHKd5",
        "colab_type": "code",
        "colab": {
          "base_uri": "https://localhost:8080/",
          "height": 517
        },
        "outputId": "860b1c5b-6b56-4905-fe0b-b0eebe5db4be"
      },
      "source": [
        "plot_accuracy(history)"
      ],
      "execution_count": null,
      "outputs": [
        {
          "output_type": "display_data",
          "data": {
            "image/png": "[encoded data removed]",
            "text/plain": [
              "<Figure size 720x576 with 1 Axes>"
            ]
          },
          "metadata": {
            "tags": []
          }
        }
      ]
    },
    {
      "cell_type": "code",
      "metadata": {
        "id": "c9Cevjy4Hxv5",
        "colab_type": "code",
        "colab": {}
      },
      "source": [
        "# model na danych treningowych performuje znakomicie\n",
        "# można modyfikować model, by poprawić wyniki na danych testowych\n",
        "# ilość warstw ukrytych, funkcja aktywacji - może być lepiej"
      ],
      "execution_count": null,
      "outputs": []
    },
    {
      "cell_type": "code",
      "metadata": {
        "id": "VfNmHk13HNuL",
        "colab_type": "code",
        "colab": {
          "base_uri": "https://localhost:8080/",
          "height": 517
        },
        "outputId": "3671e835-c412-4920-d708-740ce7e90e8f"
      },
      "source": [
        "plot_loss(history)"
      ],
      "execution_count": null,
      "outputs": [
        {
          "output_type": "display_data",
          "data": {
            "image/png": "[encoded data removed]",
            "text/plain": [
              "<Figure size 720x576 with 1 Axes>"
            ]
          },
          "metadata": {
            "tags": []
          }
        }
      ]
    },
    {
      "cell_type": "code",
      "metadata": {
        "id": "L3-2YTtWHiih",
        "colab_type": "code",
        "colab": {}
      },
      "source": [
        "# gdy model zaczyna performować gorzej na stracie,\n",
        "# powinniśmy przerwać uczenie (około 5-6. epoka),\n",
        "# bo model zaczyna nadmiernie dopasowywać się do danych treningowych (overfitting)"
      ],
      "execution_count": null,
      "outputs": []
    }
  ]
}