{
  "nbformat": 4,
  "nbformat_minor": 0,
  "metadata": {
    "colab": {
      "name": "01-Funkcje-aktywacji.ipynb",
      "provenance": []
    },
    "kernelspec": {
      "name": "python3",
      "display_name": "Python 3"
    }
  },
  "cells": [
    {
      "cell_type": "markdown",
      "metadata": {
        "id": "i7QSA_Vr4EJb",
        "colab_type": "text"
      },
      "source": [
        "## Funkcje aktywacji\n",
        "\n",
        "### ReLU = Rectified Linear Unit\n",
        "$f(x) = max(0,x)$"
      ]
    },
    {
      "cell_type": "code",
      "metadata": {
        "id": "TcZDZZIe34Ek",
        "colab_type": "code",
        "colab": {
          "base_uri": "https://localhost:8080/",
          "height": 71
        },
        "outputId": "48eacd09-2d55-40b3-e9dc-b93ac9cea2da"
      },
      "source": [
        "import numpy as np\n",
        "import seaborn as sns\n",
        "import matplotlib.pyplot as plt\n",
        "sns.set()"
      ],
      "execution_count": null,
      "outputs": [
        {
          "output_type": "stream",
          "text": [
            "/usr/local/lib/python3.6/dist-packages/statsmodels/tools/_testing.py:19: FutureWarning: pandas.util.testing is deprecated. Use the functions in the public API at pandas.testing instead.\n",
            "  import pandas.util.testing as tm\n"
          ],
          "name": "stderr"
        }
      ]
    },
    {
      "cell_type": "code",
      "metadata": {
        "id": "kuML_FIQ4WIy",
        "colab_type": "code",
        "colab": {}
      },
      "source": [
        "def max_relu(x):\n",
        "    return max(x,0)"
      ],
      "execution_count": null,
      "outputs": []
    },
    {
      "cell_type": "code",
      "metadata": {
        "id": "cxMDBoKp48LE",
        "colab_type": "code",
        "colab": {
          "base_uri": "https://localhost:8080/",
          "height": 102
        },
        "outputId": "329331af-a45a-4013-f31d-b034792627ca"
      },
      "source": [
        "for i in [-10,-5,0,5,10]:\n",
        "    print(max_relu(i))"
      ],
      "execution_count": null,
      "outputs": [
        {
          "output_type": "stream",
          "text": [
            "0\n",
            "0\n",
            "0\n",
            "5\n",
            "10\n"
          ],
          "name": "stdout"
        }
      ]
    },
    {
      "cell_type": "code",
      "metadata": {
        "id": "1c2nz6s15Cl2",
        "colab_type": "code",
        "colab": {
          "base_uri": "https://localhost:8080/",
          "height": 301
        },
        "outputId": "92dd3fa5-3918-4485-ef44-882353fe4a26"
      },
      "source": [
        "data = np.arange(-10,10,0.1)\n",
        "max_relu_data = [max_relu(x) for x in data]\n",
        "plt.plot(data,max_relu_data)\n",
        "plt.title('ReLU function')"
      ],
      "execution_count": null,
      "outputs": [
        {
          "output_type": "execute_result",
          "data": {
            "text/plain": [
              "Text(0.5, 1.0, 'ReLU function')"
            ]
          },
          "metadata": {
            "tags": []
          },
          "execution_count": 13
        },
        {
          "output_type": "display_data",
          "data": {
            "image/png": "[encoded data removed]",
            "text/plain": [
              "<Figure size 432x288 with 1 Axes>"
            ]
          },
          "metadata": {
            "tags": [],
            "needs_background": "light"
          }
        }
      ]
    },
    {
      "cell_type": "markdown",
      "metadata": {
        "id": "z65_uBbZ5u-y",
        "colab_type": "text"
      },
      "source": [
        "### Sigmoid\n",
        "\n",
        "$f(x) = \\frac{1}{1+e^{-x}}$"
      ]
    },
    {
      "cell_type": "code",
      "metadata": {
        "id": "31WEUhjX5PEf",
        "colab_type": "code",
        "colab": {}
      },
      "source": [
        "def sigmoid(x):\n",
        "    return 1./(1.+np.exp(-x))"
      ],
      "execution_count": null,
      "outputs": []
    },
    {
      "cell_type": "code",
      "metadata": {
        "id": "IL_mLl3A6Sbs",
        "colab_type": "code",
        "colab": {
          "base_uri": "https://localhost:8080/",
          "height": 136
        },
        "outputId": "9f0b6d33-044c-45ae-fe1d-ed464cd1b453"
      },
      "source": [
        "for i in [-5,-3,-1,0,1,3,5]:\n",
        "    print(sigmoid(i))"
      ],
      "execution_count": null,
      "outputs": [
        {
          "output_type": "stream",
          "text": [
            "0.0066928509242848554\n",
            "0.04742587317756678\n",
            "0.2689414213699951\n",
            "0.5\n",
            "0.7310585786300049\n",
            "0.9525741268224334\n",
            "0.9933071490757153\n"
          ],
          "name": "stdout"
        }
      ]
    },
    {
      "cell_type": "code",
      "metadata": {
        "id": "3qFTgHwb6bU8",
        "colab_type": "code",
        "colab": {
          "base_uri": "https://localhost:8080/",
          "height": 301
        },
        "outputId": "f0a9e574-aed1-40c5-8e9b-a1b647663794"
      },
      "source": [
        "sigmoid_data = [sigmoid(x) for x in data]\n",
        "plt.plot(data,sigmoid_data)\n",
        "plt.title('Sigmoid')"
      ],
      "execution_count": null,
      "outputs": [
        {
          "output_type": "execute_result",
          "data": {
            "text/plain": [
              "Text(0.5, 1.0, 'Sigmoid')"
            ]
          },
          "metadata": {
            "tags": []
          },
          "execution_count": 16
        },
        {
          "output_type": "display_data",
          "data": {
            "image/png": "[encoded data removed]",
            "text/plain": [
              "<Figure size 432x288 with 1 Axes>"
            ]
          },
          "metadata": {
            "tags": [],
            "needs_background": "light"
          }
        }
      ]
    },
    {
      "cell_type": "markdown",
      "metadata": {
        "id": "rc8Z2W1u7CsD",
        "colab_type": "text"
      },
      "source": [
        "### Softmax\n",
        "\n",
        "$S(y_i) = \\frac {e^{y_i}}{\\sum_{j=1}^{i} e^{y_j}}$"
      ]
    },
    {
      "cell_type": "markdown",
      "metadata": {
        "id": "dPpETcEwFlmb",
        "colab_type": "text"
      },
      "source": [
        ""
      ]
    },
    {
      "cell_type": "code",
      "metadata": {
        "id": "WTyfMfuJ6y_I",
        "colab_type": "code",
        "colab": {}
      },
      "source": [
        "data = np.random.randn(3,5)"
      ],
      "execution_count": null,
      "outputs": []
    },
    {
      "cell_type": "markdown",
      "metadata": {
        "id": "stn1KbDg7d6e",
        "colab_type": "text"
      },
      "source": [
        "Przed wrzuceniem danych do sieci neuronowej trzeba je \n",
        "standaryzować"
      ]
    },
    {
      "cell_type": "code",
      "metadata": {
        "id": "OgLf0QtF7V11",
        "colab_type": "code",
        "colab": {
          "base_uri": "https://localhost:8080/",
          "height": 142
        },
        "outputId": "23fbd5ae-6282-4791-a6d6-ca709155779d"
      },
      "source": [
        "import pandas as pd\n",
        "df = pd.DataFrame(data)\n",
        "df"
      ],
      "execution_count": null,
      "outputs": [
        {
          "output_type": "execute_result",
          "data": {
            "text/html": [
              "<div>\n",
              "<style scoped>\n",
              "    .dataframe tbody tr th:only-of-type {\n",
              "        vertical-align: middle;\n",
              "    }\n",
              "\n",
              "    .dataframe tbody tr th {\n",
              "        vertical-align: top;\n",
              "    }\n",
              "\n",
              "    .dataframe thead th {\n",
              "        text-align: right;\n",
              "    }\n",
              "</style>\n",
              "<table border=\"1\" class=\"dataframe\">\n",
              "  <thead>\n",
              "    <tr style=\"text-align: right;\">\n",
              "      <th></th>\n",
              "      <th>0</th>\n",
              "      <th>1</th>\n",
              "      <th>2</th>\n",
              "      <th>3</th>\n",
              "      <th>4</th>\n",
              "    </tr>\n",
              "  </thead>\n",
              "  <tbody>\n",
              "    <tr>\n",
              "      <th>0</th>\n",
              "      <td>-0.422569</td>\n",
              "      <td>0.181255</td>\n",
              "      <td>0.121875</td>\n",
              "      <td>-0.271298</td>\n",
              "      <td>0.388461</td>\n",
              "    </tr>\n",
              "    <tr>\n",
              "      <th>1</th>\n",
              "      <td>1.493288</td>\n",
              "      <td>0.756551</td>\n",
              "      <td>0.317195</td>\n",
              "      <td>1.519684</td>\n",
              "      <td>-0.044751</td>\n",
              "    </tr>\n",
              "    <tr>\n",
              "      <th>2</th>\n",
              "      <td>0.455122</td>\n",
              "      <td>2.539012</td>\n",
              "      <td>-0.276000</td>\n",
              "      <td>0.020927</td>\n",
              "      <td>0.895487</td>\n",
              "    </tr>\n",
              "  </tbody>\n",
              "</table>\n",
              "</div>"
            ],
            "text/plain": [
              "          0         1         2         3         4\n",
              "0 -0.422569  0.181255  0.121875 -0.271298  0.388461\n",
              "1  1.493288  0.756551  0.317195  1.519684 -0.044751\n",
              "2  0.455122  2.539012 -0.276000  0.020927  0.895487"
            ]
          },
          "metadata": {
            "tags": []
          },
          "execution_count": 23
        }
      ]
    },
    {
      "cell_type": "code",
      "metadata": {
        "id": "iIE1wPww7xPT",
        "colab_type": "code",
        "colab": {
          "base_uri": "https://localhost:8080/",
          "height": 119
        },
        "outputId": "3aaf01dc-a0c0-47a0-de0a-25f3079528a9"
      },
      "source": [
        "# chcemy wartości prawdopodobieństwa\n",
        "# liczymy eksponent, nie mamy <0\n",
        "# tak jak we wzorze funkcji, sumujemy kolumny\n",
        "np.sum(np.exp(df),axis=0)\n",
        "# TO JEST NASZ MIANOWNIK"
      ],
      "execution_count": null,
      "outputs": [
        {
          "output_type": "execute_result",
          "data": {
            "text/plain": [
              "0     6.683434\n",
              "1    15.996779\n",
              "2     3.261696\n",
              "3     6.354317\n",
              "4     4.879473\n",
              "dtype: float64"
            ]
          },
          "metadata": {
            "tags": []
          },
          "execution_count": 25
        }
      ]
    },
    {
      "cell_type": "code",
      "metadata": {
        "id": "uML8ckUI78bi",
        "colab_type": "code",
        "colab": {
          "base_uri": "https://localhost:8080/",
          "height": 142
        },
        "outputId": "bfa9bb1e-0192-4525-ee12-517739b88769"
      },
      "source": [
        "# TO JEST NASZ LICZNIK\n",
        "np.exp(df)"
      ],
      "execution_count": null,
      "outputs": [
        {
          "output_type": "execute_result",
          "data": {
            "text/html": [
              "<div>\n",
              "<style scoped>\n",
              "    .dataframe tbody tr th:only-of-type {\n",
              "        vertical-align: middle;\n",
              "    }\n",
              "\n",
              "    .dataframe tbody tr th {\n",
              "        vertical-align: top;\n",
              "    }\n",
              "\n",
              "    .dataframe thead th {\n",
              "        text-align: right;\n",
              "    }\n",
              "</style>\n",
              "<table border=\"1\" class=\"dataframe\">\n",
              "  <thead>\n",
              "    <tr style=\"text-align: right;\">\n",
              "      <th></th>\n",
              "      <th>0</th>\n",
              "      <th>1</th>\n",
              "      <th>2</th>\n",
              "      <th>3</th>\n",
              "      <th>4</th>\n",
              "    </tr>\n",
              "  </thead>\n",
              "  <tbody>\n",
              "    <tr>\n",
              "      <th>0</th>\n",
              "      <td>0.655361</td>\n",
              "      <td>1.198721</td>\n",
              "      <td>1.129613</td>\n",
              "      <td>0.762390</td>\n",
              "      <td>1.474710</td>\n",
              "    </tr>\n",
              "    <tr>\n",
              "      <th>1</th>\n",
              "      <td>4.451707</td>\n",
              "      <td>2.130913</td>\n",
              "      <td>1.373271</td>\n",
              "      <td>4.570780</td>\n",
              "      <td>0.956235</td>\n",
              "    </tr>\n",
              "    <tr>\n",
              "      <th>2</th>\n",
              "      <td>1.576366</td>\n",
              "      <td>12.667145</td>\n",
              "      <td>0.758813</td>\n",
              "      <td>1.021148</td>\n",
              "      <td>2.448528</td>\n",
              "    </tr>\n",
              "  </tbody>\n",
              "</table>\n",
              "</div>"
            ],
            "text/plain": [
              "          0          1         2         3         4\n",
              "0  0.655361   1.198721  1.129613  0.762390  1.474710\n",
              "1  4.451707   2.130913  1.373271  4.570780  0.956235\n",
              "2  1.576366  12.667145  0.758813  1.021148  2.448528"
            ]
          },
          "metadata": {
            "tags": []
          },
          "execution_count": 26
        }
      ]
    },
    {
      "cell_type": "code",
      "metadata": {
        "id": "-XDSZX8-IGab",
        "colab_type": "code",
        "colab": {
          "base_uri": "https://localhost:8080/",
          "height": 142
        },
        "outputId": "5c706350-2835-426e-9eae-694ac2696939"
      },
      "source": [
        "np.exp(df) / np.sum(np.exp(df),axis=0)\n",
        "# otrzymujemy prawdopodobieństwa przynależności do danej klasy\n",
        "# klasy to 0,1,2"
      ],
      "execution_count": null,
      "outputs": [
        {
          "output_type": "execute_result",
          "data": {
            "text/html": [
              "<div>\n",
              "<style scoped>\n",
              "    .dataframe tbody tr th:only-of-type {\n",
              "        vertical-align: middle;\n",
              "    }\n",
              "\n",
              "    .dataframe tbody tr th {\n",
              "        vertical-align: top;\n",
              "    }\n",
              "\n",
              "    .dataframe thead th {\n",
              "        text-align: right;\n",
              "    }\n",
              "</style>\n",
              "<table border=\"1\" class=\"dataframe\">\n",
              "  <thead>\n",
              "    <tr style=\"text-align: right;\">\n",
              "      <th></th>\n",
              "      <th>0</th>\n",
              "      <th>1</th>\n",
              "      <th>2</th>\n",
              "      <th>3</th>\n",
              "      <th>4</th>\n",
              "    </tr>\n",
              "  </thead>\n",
              "  <tbody>\n",
              "    <tr>\n",
              "      <th>0</th>\n",
              "      <td>0.098058</td>\n",
              "      <td>0.074935</td>\n",
              "      <td>0.346327</td>\n",
              "      <td>0.119980</td>\n",
              "      <td>0.302227</td>\n",
              "    </tr>\n",
              "    <tr>\n",
              "      <th>1</th>\n",
              "      <td>0.666081</td>\n",
              "      <td>0.133209</td>\n",
              "      <td>0.421030</td>\n",
              "      <td>0.719319</td>\n",
              "      <td>0.195971</td>\n",
              "    </tr>\n",
              "    <tr>\n",
              "      <th>2</th>\n",
              "      <td>0.235862</td>\n",
              "      <td>0.791856</td>\n",
              "      <td>0.232644</td>\n",
              "      <td>0.160701</td>\n",
              "      <td>0.501802</td>\n",
              "    </tr>\n",
              "  </tbody>\n",
              "</table>\n",
              "</div>"
            ],
            "text/plain": [
              "          0         1         2         3         4\n",
              "0  0.098058  0.074935  0.346327  0.119980  0.302227\n",
              "1  0.666081  0.133209  0.421030  0.719319  0.195971\n",
              "2  0.235862  0.791856  0.232644  0.160701  0.501802"
            ]
          },
          "metadata": {
            "tags": []
          },
          "execution_count": 27
        }
      ]
    },
    {
      "cell_type": "code",
      "metadata": {
        "id": "4tUeMzspIVvD",
        "colab_type": "code",
        "colab": {
          "base_uri": "https://localhost:8080/",
          "height": 119
        },
        "outputId": "7ff81bd3-7be6-48b7-e925-d0adbdf8ccde"
      },
      "source": [
        "res = np.exp(df) / np.sum(np.exp(df),axis=0)\n",
        "np.sum(res,axis=0) \n",
        "#suma prawdopodobieństw = 1 w każdej kolumnie"
      ],
      "execution_count": null,
      "outputs": [
        {
          "output_type": "execute_result",
          "data": {
            "text/plain": [
              "0    1.0\n",
              "1    1.0\n",
              "2    1.0\n",
              "3    1.0\n",
              "4    1.0\n",
              "dtype: float64"
            ]
          },
          "metadata": {
            "tags": []
          },
          "execution_count": 29
        }
      ]
    },
    {
      "cell_type": "code",
      "metadata": {
        "id": "zoAhURz2Ilvk",
        "colab_type": "code",
        "colab": {}
      },
      "source": [
        "# wybieramy elementy o najwyższym prawdopodobieństwie z tabelki res"
      ],
      "execution_count": null,
      "outputs": []
    },
    {
      "cell_type": "markdown",
      "metadata": {
        "id": "5d0wSQyRJe85",
        "colab_type": "text"
      },
      "source": [
        "### Tanh\n",
        "\n",
        "$tanh(x) = \\frac {e^x - e^{-x}}{e^x + e^{-x}}$"
      ]
    },
    {
      "cell_type": "code",
      "metadata": {
        "id": "73fAJiroI7VW",
        "colab_type": "code",
        "colab": {}
      },
      "source": [
        "def tanh(x):\n",
        "    return (np.exp(x) - np.exp(-x)) / (np.exp(x) + np.exp(-x))"
      ],
      "execution_count": null,
      "outputs": []
    },
    {
      "cell_type": "code",
      "metadata": {
        "id": "Ot0KFSMNKH4G",
        "colab_type": "code",
        "colab": {
          "base_uri": "https://localhost:8080/",
          "height": 102
        },
        "outputId": "b685663d-d2e2-4f28-c55e-7a17bf68c6e1"
      },
      "source": [
        "for i in [-2,-1,0,1,2]:\n",
        "    print(tanh(i))"
      ],
      "execution_count": null,
      "outputs": [
        {
          "output_type": "stream",
          "text": [
            "-0.964027580075817\n",
            "-0.7615941559557649\n",
            "0.0\n",
            "0.7615941559557649\n",
            "0.964027580075817\n"
          ],
          "name": "stdout"
        }
      ]
    },
    {
      "cell_type": "code",
      "metadata": {
        "id": "Vwp04J2DKO8W",
        "colab_type": "code",
        "colab": {
          "base_uri": "https://localhost:8080/",
          "height": 301
        },
        "outputId": "b55229ab-ba3a-4e99-f543-07a9992bd8c2"
      },
      "source": [
        "data = np.arange(-10,10,0.1)\n",
        "tanh_data = [tanh(x) for x in data]\n",
        "\n",
        "plt.plot(data,tanh_data)\n",
        "plt.title('Tanh - tangens hiperboliczny')"
      ],
      "execution_count": null,
      "outputs": [
        {
          "output_type": "execute_result",
          "data": {
            "text/plain": [
              "Text(0.5, 1.0, 'Tanh - tangens hiperboliczny')"
            ]
          },
          "metadata": {
            "tags": []
          },
          "execution_count": 35
        },
        {
          "output_type": "display_data",
          "data": {
            "image/png": "[encoded data removed]",
            "text/plain": [
              "<Figure size 432x288 with 1 Axes>"
            ]
          },
          "metadata": {
            "tags": [],
            "needs_background": "light"
          }
        }
      ]
    },
    {
      "cell_type": "code",
      "metadata": {
        "id": "n59w-4NyMPAd",
        "colab_type": "code",
        "colab": {}
      },
      "source": [
        ""
      ],
      "execution_count": null,
      "outputs": []
    }
  ]
}