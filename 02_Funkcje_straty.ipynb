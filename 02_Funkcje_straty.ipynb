{
  "nbformat": 4,
  "nbformat_minor": 0,
  "metadata": {
    "colab": {
      "name": "02-Funkcje-straty.ipynb",
      "provenance": []
    },
    "kernelspec": {
      "name": "python3",
      "display_name": "Python 3"
    }
  },
  "cells": [
    {
      "cell_type": "markdown",
      "metadata": {
        "id": "lpZGtc7PQRdE",
        "colab_type": "text"
      },
      "source": [
        "## Accuracy = dokładność klasyfikacji\n",
        "\n",
        "$Accuracy = \\frac {\\text{correct predictions}}{\\text{total predictions}}*10$"
      ]
    },
    {
      "cell_type": "code",
      "metadata": {
        "id": "Htqj-vUaNqeu",
        "colab_type": "code",
        "colab": {}
      },
      "source": [
        "import numpy as np\n",
        "y_true = np.array([1,0,1,1,0,1])\n",
        "y_pred = np.array([0,1,1,1,0,1])"
      ],
      "execution_count": null,
      "outputs": []
    },
    {
      "cell_type": "code",
      "metadata": {
        "id": "R1DJ-VupRRRl",
        "colab_type": "code",
        "colab": {}
      },
      "source": [
        "def accuracy(y_true,y_pred):\n",
        "    correct = 0\n",
        "    for i in range(len(y_true)):\n",
        "      if y_true[i]==y_pred[i]:\n",
        "        correct+=1\n",
        "    return correct/len(y_true)*100"
      ],
      "execution_count": null,
      "outputs": []
    },
    {
      "cell_type": "code",
      "metadata": {
        "id": "rPUSOoj8SBsa",
        "colab_type": "code",
        "colab": {
          "base_uri": "https://localhost:8080/",
          "height": 34
        },
        "outputId": "3486e6d6-5120-40e0-f0e0-725aaa54b7c4"
      },
      "source": [
        "accuracy(y_true,y_pred)"
      ],
      "execution_count": null,
      "outputs": [
        {
          "output_type": "execute_result",
          "data": {
            "text/plain": [
              "66.66666666666666"
            ]
          },
          "metadata": {
            "tags": []
          },
          "execution_count": 7
        }
      ]
    },
    {
      "cell_type": "markdown",
      "metadata": {
        "id": "hmlqPIZXTG-R",
        "colab_type": "text"
      },
      "source": [
        "### Entropia rozkładu prawdopodobieństwa\n",
        "\n",
        "$Entropy = -\\sum_i p_i * log(p_i)$\n",
        "\n",
        "Gdzie $p_i$ to prawdopodobieństwo zajścia i-tego zdarzenia.\n",
        "\n",
        "Entropia charakteryzuje możliwość oddawania informacji przez źródło.\n",
        "\n",
        "Inaczej: miara nieokreśloności/niepewności. Średnie zdziwienie (wartość oczekiwana zdziwienia)."
      ]
    },
    {
      "cell_type": "code",
      "metadata": {
        "id": "VJQKwXybSD6I",
        "colab_type": "code",
        "colab": {}
      },
      "source": [
        "def entropy(labels,base=None):\n",
        "    from math import log,e\n",
        "    n_labels = len(labels)\n",
        "\n",
        "    if n_labels<=1:\n",
        "      return 0\n",
        "\n",
        "    value,counts = np.unique(labels,return_counts=True)\n",
        "    probs = counts/n_labels\n",
        "    n_classes = np.count_nonzero(probs)\n",
        "\n",
        "    if n_classes<=1:\n",
        "        return 0\n",
        "    \n",
        "    ent = 0.\n",
        "    base = e if base is None else base\n",
        "    for i in probs:\n",
        "        ent -= i * log(i,base)\n",
        "    return ent"
      ],
      "execution_count": null,
      "outputs": []
    },
    {
      "cell_type": "code",
      "metadata": {
        "id": "0kuxJXu9TFq0",
        "colab_type": "code",
        "colab": {
          "base_uri": "https://localhost:8080/",
          "height": 34
        },
        "outputId": "0e8f3a8f-cc49-497f-86dc-8a0437b8aac1"
      },
      "source": [
        "labels = [1,3,5,2,3,5,3,2,1,3,4,5]\n",
        "entropy(labels)"
      ],
      "execution_count": null,
      "outputs": [
        {
          "output_type": "execute_result",
          "data": {
            "text/plain": [
              "1.5171063970610277"
            ]
          },
          "metadata": {
            "tags": []
          },
          "execution_count": 11
        }
      ]
    },
    {
      "cell_type": "markdown",
      "metadata": {
        "id": "upqXPj5GPPrS",
        "colab_type": "text"
      },
      "source": [
        "### Binary Crossentropy = binarna entropia krzyżowa\n",
        "Mierzy odległości między rozkładami 2 zmiennych"
      ]
    },
    {
      "cell_type": "code",
      "metadata": {
        "id": "wnlJR1B3WGgQ",
        "colab_type": "code",
        "colab": {}
      },
      "source": [
        "import numpy as np\n",
        "def binary_cross(Y_true,y_pred):\n",
        "    # musimy uniknąć dzielenia przez 0\n",
        "    y_pred = np.clip(y_pred,0.0000001,1-0.0000001)\n",
        "    # zamiast zera w logarytnie będziemy bardzo blisko 0 lub 1\n",
        "    return -y_true * np.log(y_pred) - (1-y_true) * np.log(1-y_pred)"
      ],
      "execution_count": null,
      "outputs": []
    },
    {
      "cell_type": "code",
      "metadata": {
        "id": "Xb_bcY21PtqL",
        "colab_type": "code",
        "colab": {
          "base_uri": "https://localhost:8080/",
          "height": 51
        },
        "outputId": "faa1812b-8ce9-4f59-bd0a-112a7272422f"
      },
      "source": [
        "y_true=np.array([1,0,0,1,0,0,1])\n",
        "y_pred=np.array([0,1,0,1,0,0,1])\n",
        "\n",
        "binary_cross(y_true,y_pred)"
      ],
      "execution_count": null,
      "outputs": [
        {
          "output_type": "execute_result",
          "data": {
            "text/plain": [
              "array([1.61180957e+01, 1.61180957e+01, 1.00000005e-07, 1.00000005e-07,\n",
              "       1.00000005e-07, 1.00000005e-07, 1.00000005e-07])"
            ]
          },
          "metadata": {
            "tags": []
          },
          "execution_count": 10
        }
      ]
    },
    {
      "cell_type": "markdown",
      "metadata": {
        "id": "J3wqzXjPSCeC",
        "colab_type": "text"
      },
      "source": [
        "### Categorical Crossentropy = kategoryczna entropia krzyżowa"
      ]
    },
    {
      "cell_type": "code",
      "metadata": {
        "id": "UGTVf5zBREOP",
        "colab_type": "code",
        "colab": {}
      },
      "source": [
        "import numpy as np\n",
        "def categorical_cross(y_true,y_pred):\n",
        "    # j.w. można clippować wartości\n",
        "    y_pred = np.clip(y_pred,0.00001,1-0.00001)\n",
        "    return -np.sum(y_true*np.log(y_pred))"
      ],
      "execution_count": null,
      "outputs": []
    },
    {
      "cell_type": "code",
      "metadata": {
        "id": "3tE0UmMASmza",
        "colab_type": "code",
        "colab": {
          "base_uri": "https://localhost:8080/",
          "height": 34
        },
        "outputId": "0e501960-a8c1-49c7-a4d5-8133f16e690b"
      },
      "source": [
        "y_true=np.array([1,0,0,0,0])\n",
        "y_pred = np.array([0.98,0,0,0,0.01])\n",
        "\n",
        "categorical_cross(y_true,y_pred)"
      ],
      "execution_count": null,
      "outputs": [
        {
          "output_type": "execute_result",
          "data": {
            "text/plain": [
              "0.020202707317519466"
            ]
          },
          "metadata": {
            "tags": []
          },
          "execution_count": 17
        }
      ]
    },
    {
      "cell_type": "code",
      "metadata": {
        "id": "2m-6NvrYS1C6",
        "colab_type": "code",
        "colab": {
          "base_uri": "https://localhost:8080/",
          "height": 34
        },
        "outputId": "0f85446f-31cb-4108-8251-85f9956a1c25"
      },
      "source": [
        "y_true=np.array([[1,0,0,0,0], # próbka z 1. klasy\n",
        "                [0,1,0,0,0], # próbka z 2. klasy\n",
        "                [0,0,0,0,1]]) # próbka z 5. klasy\n",
        "y_pred = np.array([[0.98,0,0,0,0.02],# rozkłady przynależności próbek do danej klasy\n",
        "                  [0.05,0.9,0,0.05,0],\n",
        "                  [0.1,0.2,0,0.1,0.6]])\n",
        "\n",
        "categorical_cross(y_true,y_pred)"
      ],
      "execution_count": null,
      "outputs": [
        {
          "output_type": "execute_result",
          "data": {
            "text/plain": [
              "0.6363888467413364"
            ]
          },
          "metadata": {
            "tags": []
          },
          "execution_count": 6
        }
      ]
    },
    {
      "cell_type": "code",
      "metadata": {
        "id": "wlOMA8nyTlJ4",
        "colab_type": "code",
        "colab": {}
      },
      "source": [
        "# im więcej próbek, tym wyższa wartość kategorycznej crossentropii"
      ],
      "execution_count": null,
      "outputs": []
    },
    {
      "cell_type": "code",
      "metadata": {
        "id": "KhB5zc7Ik78p",
        "colab_type": "code",
        "colab": {}
      },
      "source": [
        ""
      ],
      "execution_count": null,
      "outputs": []
    }
  ]
}