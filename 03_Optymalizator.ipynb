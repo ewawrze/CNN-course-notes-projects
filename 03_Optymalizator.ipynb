{
  "nbformat": 4,
  "nbformat_minor": 0,
  "metadata": {
    "colab": {
      "name": "03-Optymalizator.ipynb",
      "provenance": []
    },
    "kernelspec": {
      "name": "python3",
      "display_name": "Python 3"
    }
  },
  "cells": [
    {
      "cell_type": "markdown",
      "metadata": {
        "id": "ro9hgVASlTQn",
        "colab_type": "text"
      },
      "source": [
        "### Gradient Descent - algorytm stochastycznego spadku\n",
        "Stochastyczny spadek gradientu"
      ]
    },
    {
      "cell_type": "markdown",
      "metadata": {
        "id": "a35T5uBIlgjM",
        "colab_type": "text"
      },
      "source": [
        "OPTYMALIZATOR:\n",
        "- odpowiedzialny za uczenie naszej sieci neuronowej\n",
        "- na podstawie funkcji straty, optymalizator podejmuje decyzję w jaki sposób będzie się uczył w kolejnej iteracji\n",
        "- najprostszy: optymalizator stochastycznego spadku\n",
        "- jest dużo odmian tego algorytmu, my zaimplementujemy ten w najprostszej postaci, algorytm stochastycznego spadku"
      ]
    },
    {
      "cell_type": "markdown",
      "metadata": {
        "id": "okYSmzakn9Jz",
        "colab_type": "text"
      },
      "source": [
        "Badamy funkcję straty zapisaną wzorem:\n",
        "$L(w) = w^2 - 4w$\n",
        "\n",
        "Pochodna tej funkcji w punkcie to:\n",
        "$\\frac {dL} {dw} = 2w - 4$ - to współczynnik kierunkowy stycznej do danego punktu. Jeśli jest równe 0 w jakimś punkcie, to mamy do czynienia z minimum lub maksimum. Jest to wtedy prosta stała, dla każdego x ma stałą wartość. \n",
        "\n",
        "Wskaźnik ujemny - prosta nachylona w prawo, wskaźnik dodatni - wartości rosną w prawo.\n",
        "\n",
        "Funkcja straty z wieloma parametrami jest trudna do wizualizacji. Nas interesuje minimum globalne (na całej dziedzinie najmniejsza wartość). \n",
        "\n",
        "Pochodna przy wielu zmiennych = gradient"
      ]
    },
    {
      "cell_type": "markdown",
      "metadata": {
        "id": "OBl1QlTRpHu_",
        "colab_type": "text"
      },
      "source": [
        "Problem: znajdź lokalne minimum zaczynając z dowolnego punktu na wykresie. \n",
        "\n",
        "Krok 1. Inicjalizacja dowolnej wartości dla w. Weźmy $w=-1$\n",
        "\n",
        "Krok 2. Obliczenie pochodnej (gradientu) funkcji\n",
        "\n",
        "Krok 3. Dobranie wskaźnika uczenia (learning rate), np. $0.1$, zmiany po każdej iteracji będą bardziej znaczące, najczęściej jest to mniejsza liczba (np. 0.01)\n",
        "\n",
        "Krok 4. Ruch w kierunku ujemnego gradientu\n",
        "\n",
        "Gradient funkcji w danym miejscu pokazuje kierunek, w którym funkcja rośnie najszybciej. Nas interesuje sytuacja przeciwna (spadek). Dlatego poruszymy się w kierunku przeciwnym do wyznaczonego przez gradient."
      ]
    },
    {
      "cell_type": "markdown",
      "metadata": {
        "id": "nnwPOF1t1Z3g",
        "colab_type": "text"
      },
      "source": [
        "Propagacja w przód - otrzymujemy przewidywania na ostatniej warstwie (wyjściowej, output layer). Otrzymujemy wartość wyjściową, którą możemy porównać z wartością rzeczywistą, obliczyć za pomocą funkcji straty nasz błąd estymacji, następnie obliczamy pochodną wartości błędu w odniesieniu do każdej wagi (na warstwie wejściowej mamy np. 2 wagi, na ukrytej np. 4 wagi - bo 4 węzły) i próbujemy zoptymalizować funkcję straty. Czyli obliczylibyśmy pochodną wartości błędu w odniesieniu do każdej wagi w sieci neuronowej i następnie odjęli wartość gradientu od naszej funkcji straty, żeby zmniejszyć wartość błędu. \n",
        "\n",
        "W ten sposób sieć się uczy, trenuje i zbliża się do naszych lokalnych minimów.\n",
        "\n",
        "Im bardziej architektura sieci jest rozbudowana, tym dłuższe będzie uczenie sieci. Sieci konwolucyjne nieco zmniejszają ten problem złożoności obliczeniowej.\n"
      ]
    },
    {
      "cell_type": "code",
      "metadata": {
        "id": "me-tllwnlI91",
        "colab_type": "code",
        "colab": {}
      },
      "source": [
        "import matplotlib.pyplot as plt\n",
        "import numpy as np\n",
        "import seaborn as sns \n",
        "sns.set_style(\"whitegrid\")\n",
        "%matplotlib inline"
      ],
      "execution_count": null,
      "outputs": []
    },
    {
      "cell_type": "code",
      "metadata": {
        "id": "s2htbnIwqEzo",
        "colab_type": "code",
        "colab": {
          "base_uri": "https://localhost:8080/",
          "height": 298
        },
        "outputId": "eb48c0fb-ae73-48bc-d998-b105b2a8312f"
      },
      "source": [
        "# OPTYMALIZATOR STOCHASTYCZNEGO SPADKU GRADIENTU\n",
        "\n",
        "\n",
        "# obrazujemy funkcję straty\n",
        "\n",
        "w = np.arange(-10, 14, 0.1)\n",
        "Loss = w**2 - 4*w\n",
        "\n",
        "point = -4 # będziemy go przesuwać do minimum globalnego\n",
        "\n",
        "# plt.figure(figsize=(8, 6))\n",
        "plt.plot(point, point ** 2 - 4 * point, 'ro')\n",
        "\n",
        "plt.plot(w, Loss)\n",
        "plt.title('Loss function')"
      ],
      "execution_count": null,
      "outputs": [
        {
          "output_type": "execute_result",
          "data": {
            "text/plain": [
              "Text(0.5, 1.0, 'Loss function')"
            ]
          },
          "metadata": {
            "tags": []
          },
          "execution_count": 18
        },
        {
          "output_type": "display_data",
          "data": {
            "image/png": "[encoded data removed]",
            "text/plain": [
              "<Figure size 432x288 with 1 Axes>"
            ]
          },
          "metadata": {
            "tags": [],
            "needs_background": "light"
          }
        }
      ]
    },
    {
      "cell_type": "code",
      "metadata": {
        "id": "l90oF9d3omic",
        "colab_type": "code",
        "colab": {}
      },
      "source": [
        "# implementujemy algorytm stochastycznego spadku gradientu\n",
        "\n",
        "def gradient_descent(df=lambda w: 2*w-4, # gradient funkcji do optymalizacji\n",
        "                     learning_rate=0.01, # wskaźnik uczenia\n",
        "                     w_0=-4, # inicjalizacja wagi początkowej\n",
        "                     max_iters=10000, # max liczba iteracji\n",
        "                     precision=0.00001): # precyzja - spr. kiedy zatrzymać algorytm\n",
        "    \"\"\"\n",
        "    parametry:\n",
        "    ----------\n",
        "    df: gradient funkcji do optymalizacji\n",
        "    learning_rate: wskaźnik uczenia\n",
        "    max_iters: maksymalna liczba iteracji\n",
        "    precision: precyzja sprawdza kiedy zatrzymać działanie algorytmu\n",
        "    w_0: inicjalizacja wagi początkowej\n",
        "    \"\"\"\n",
        "    \n",
        "    # licznik iteracji:\n",
        "    iters = 0\n",
        "\n",
        "    # kontrola wartości kroku kolejnego spadku, \n",
        "    # jeśli wartość kroku kolejnego spadku będzie mniejsza \n",
        "    # od precyzji, kończymy działanie algorytmu\n",
        "    previous_step_size = 1\n",
        "\n",
        "    # wagi, które były aktualizowane\n",
        "    weights = []\n",
        "\n",
        "    while previous_step_size > precision and iters < max_iters:\n",
        "        w_previous = w_0\n",
        "        w_0 = w_0 - learning_rate * df(w_previous)\n",
        "        previous_step_size = abs(w_0 - w_previous)\n",
        "        iters += 1\n",
        "        weights.append(w_0)\n",
        "        print('Iteracja nr:',iters, '| Wartość wagi obecnego punktu:',w_0)\n",
        "    \n",
        "    print('Minimum lokalne znajduje się w punkcie:',w_0)\n",
        "    return weights\n"
      ],
      "execution_count": null,
      "outputs": []
    },
    {
      "cell_type": "code",
      "metadata": {
        "id": "e9dXUv3l6Czq",
        "colab_type": "code",
        "colab": {}
      },
      "source": [
        ""
      ],
      "execution_count": null,
      "outputs": []
    },
    {
      "cell_type": "code",
      "metadata": {
        "id": "-R_F5aPFzH3z",
        "colab_type": "code",
        "colab": {
          "base_uri": "https://localhost:8080/",
          "height": 1000
        },
        "outputId": "ed3cefc9-55b0-4d28-8fba-409ae4ab6619"
      },
      "source": [
        "w = np.arange(-10, 14, 0.1)\n",
        "Loss = w**2 - 4*w\n",
        "\n",
        "plt.figure(figsize=(12,10))\n",
        "plt.plot(w, Loss)\n",
        "\n",
        "weights = gradient_descent(w_0=-10,learning_rate=0.1)\n",
        "\n",
        "for weight in weights:\n",
        "    plt.plot(weight,weight**2-4*weight,'ro')"
      ],
      "execution_count": null,
      "outputs": [
        {
          "output_type": "stream",
          "text": [
            "Iteracja nr: 1 | Wartość wagi obecnego punktu: -7.6\n",
            "Iteracja nr: 2 | Wartość wagi obecnego punktu: -5.68\n",
            "Iteracja nr: 3 | Wartość wagi obecnego punktu: -4.144\n",
            "Iteracja nr: 4 | Wartość wagi obecnego punktu: -2.9152\n",
            "Iteracja nr: 5 | Wartość wagi obecnego punktu: -1.9321599999999999\n",
            "Iteracja nr: 6 | Wartość wagi obecnego punktu: -1.1457279999999999\n",
            "Iteracja nr: 7 | Wartość wagi obecnego punktu: -0.5165823999999998\n",
            "Iteracja nr: 8 | Wartość wagi obecnego punktu: -0.01326591999999982\n",
            "Iteracja nr: 9 | Wartość wagi obecnego punktu: 0.3893872640000002\n",
            "Iteracja nr: 10 | Wartość wagi obecnego punktu: 0.7115098112000002\n",
            "Iteracja nr: 11 | Wartość wagi obecnego punktu: 0.9692078489600002\n",
            "Iteracja nr: 12 | Wartość wagi obecnego punktu: 1.1753662791680002\n",
            "Iteracja nr: 13 | Wartość wagi obecnego punktu: 1.3402930233344001\n",
            "Iteracja nr: 14 | Wartość wagi obecnego punktu: 1.47223441866752\n",
            "Iteracja nr: 15 | Wartość wagi obecnego punktu: 1.577787534934016\n",
            "Iteracja nr: 16 | Wartość wagi obecnego punktu: 1.6622300279472129\n",
            "Iteracja nr: 17 | Wartość wagi obecnego punktu: 1.7297840223577703\n",
            "Iteracja nr: 18 | Wartość wagi obecnego punktu: 1.7838272178862162\n",
            "Iteracja nr: 19 | Wartość wagi obecnego punktu: 1.827061774308973\n",
            "Iteracja nr: 20 | Wartość wagi obecnego punktu: 1.8616494194471784\n",
            "Iteracja nr: 21 | Wartość wagi obecnego punktu: 1.8893195355577428\n",
            "Iteracja nr: 22 | Wartość wagi obecnego punktu: 1.9114556284461943\n",
            "Iteracja nr: 23 | Wartość wagi obecnego punktu: 1.9291645027569555\n",
            "Iteracja nr: 24 | Wartość wagi obecnego punktu: 1.9433316022055644\n",
            "Iteracja nr: 25 | Wartość wagi obecnego punktu: 1.9546652817644516\n",
            "Iteracja nr: 26 | Wartość wagi obecnego punktu: 1.9637322254115612\n",
            "Iteracja nr: 27 | Wartość wagi obecnego punktu: 1.970985780329249\n",
            "Iteracja nr: 28 | Wartość wagi obecnego punktu: 1.9767886242633992\n",
            "Iteracja nr: 29 | Wartość wagi obecnego punktu: 1.9814308994107193\n",
            "Iteracja nr: 30 | Wartość wagi obecnego punktu: 1.9851447195285754\n",
            "Iteracja nr: 31 | Wartość wagi obecnego punktu: 1.9881157756228602\n",
            "Iteracja nr: 32 | Wartość wagi obecnego punktu: 1.9904926204982882\n",
            "Iteracja nr: 33 | Wartość wagi obecnego punktu: 1.9923940963986306\n",
            "Iteracja nr: 34 | Wartość wagi obecnego punktu: 1.9939152771189046\n",
            "Iteracja nr: 35 | Wartość wagi obecnego punktu: 1.9951322216951237\n",
            "Iteracja nr: 36 | Wartość wagi obecnego punktu: 1.996105777356099\n",
            "Iteracja nr: 37 | Wartość wagi obecnego punktu: 1.9968846218848793\n",
            "Iteracja nr: 38 | Wartość wagi obecnego punktu: 1.9975076975079034\n",
            "Iteracja nr: 39 | Wartość wagi obecnego punktu: 1.9980061580063226\n",
            "Iteracja nr: 40 | Wartość wagi obecnego punktu: 1.998404926405058\n",
            "Iteracja nr: 41 | Wartość wagi obecnego punktu: 1.9987239411240465\n",
            "Iteracja nr: 42 | Wartość wagi obecnego punktu: 1.998979152899237\n",
            "Iteracja nr: 43 | Wartość wagi obecnego punktu: 1.9991833223193898\n",
            "Iteracja nr: 44 | Wartość wagi obecnego punktu: 1.999346657855512\n",
            "Iteracja nr: 45 | Wartość wagi obecnego punktu: 1.9994773262844094\n",
            "Iteracja nr: 46 | Wartość wagi obecnego punktu: 1.9995818610275276\n",
            "Iteracja nr: 47 | Wartość wagi obecnego punktu: 1.999665488822022\n",
            "Iteracja nr: 48 | Wartość wagi obecnego punktu: 1.9997323910576177\n",
            "Iteracja nr: 49 | Wartość wagi obecnego punktu: 1.9997859128460942\n",
            "Iteracja nr: 50 | Wartość wagi obecnego punktu: 1.9998287302768754\n",
            "Iteracja nr: 51 | Wartość wagi obecnego punktu: 1.9998629842215003\n",
            "Iteracja nr: 52 | Wartość wagi obecnego punktu: 1.9998903873772003\n",
            "Iteracja nr: 53 | Wartość wagi obecnego punktu: 1.9999123099017602\n",
            "Iteracja nr: 54 | Wartość wagi obecnego punktu: 1.999929847921408\n",
            "Iteracja nr: 55 | Wartość wagi obecnego punktu: 1.9999438783371264\n",
            "Iteracja nr: 56 | Wartość wagi obecnego punktu: 1.9999551026697011\n",
            "Iteracja nr: 57 | Wartość wagi obecnego punktu: 1.999964082135761\n",
            "Minimum lokalne znajduje się w punkcie: 1.999964082135761\n"
          ],
          "name": "stdout"
        },
        {
          "output_type": "display_data",
          "data": {
            "image/png": "[encoded data removed]",
            "text/plain": [
              "<Figure size 864x720 with 1 Axes>"
            ]
          },
          "metadata": {
            "tags": [],
            "needs_background": "light"
          }
        }
      ]
    },
    {
      "cell_type": "code",
      "metadata": {
        "id": "SWBnHgTq0Ezl",
        "colab_type": "code",
        "colab": {}
      },
      "source": [
        ""
      ],
      "execution_count": null,
      "outputs": []
    }
  ]
}